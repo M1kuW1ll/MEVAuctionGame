{
 "cells": [
  {
   "cell_type": "code",
   "execution_count": 19,
   "metadata": {},
   "outputs": [],
   "source": [
    "import mesa\n",
    "import pandas as pd\n",
    "import numpy as np"
   ]
  },
  {
   "cell_type": "code",
   "execution_count": 20,
   "metadata": {},
   "outputs": [],
   "source": [
    "from scipy.stats import poisson, norm"
   ]
  },
  {
   "cell_type": "code",
   "execution_count": 21,
   "metadata": {},
   "outputs": [],
   "source": [
    "import random\n",
    "from mesa import Agent, Model\n",
    "from mesa.time import RandomActivation"
   ]
  },
  {
   "cell_type": "code",
   "execution_count": 78,
   "metadata": {
    "scrolled": true
   },
   "outputs": [
    {
     "name": "stdout",
     "output_type": "stream",
     "text": [
      "Number of Bids: 153\n",
      "Winning bidder: 54\n",
      "Highest bid: 2247\n",
      "Profit margin of winner: 7.740073136789729\n",
      "Public signal: 961\n",
      "Private lambda: 0.9939404139372326\n",
      "Auction time: 12.186973702774083\n"
     ]
    }
   ],
   "source": [
    "class Player(Agent):\n",
    "    def __init__(self, unique_id, model, pm, rate_private):\n",
    "        super().__init__(unique_id, model)\n",
    "        self.private_lambda = rate_private\n",
    "        self.pm = pm\n",
    "        self.bid = 0\n",
    "        \n",
    "    def step(self):\n",
    "        t = self.model.schedule.time # get current time\n",
    "        # Private signal \n",
    "        private_signal = poisson.rvs(self.private_lambda * t)\n",
    "        # Aggregated signal\n",
    "        aggregated_signal = self.model.public_signal + private_signal\n",
    "        \n",
    "        if aggregated_signal > self.model.current_max_bid + self.pm:\n",
    "            self.bid = aggregated_signal\n",
    "            self.model.current_max_bid = self.bid\n",
    "            self.model.winning_player = self   \n",
    "            self.model.num_bid += 1\n",
    "            \n",
    "class Auction(Model):\n",
    "    def __init__(self, N, rate_public, T_mean, T_sd):\n",
    "        self.num_agents = N\n",
    "        self.public_lambda = rate_public\n",
    "        \n",
    "        #Create Agents\n",
    "        self.schedule = RandomActivation(self)\n",
    "        for i in range(self.num_agents):\n",
    "            pm = np.random.uniform(0, 10.0)\n",
    "            rate_private = np.random.uniform(0, 1.0)\n",
    "            a = Player(i, self, pm, rate_private)\n",
    "            self.schedule.add(a)\n",
    "        \n",
    "        # Initialize highest bid\n",
    "        self.current_max_bid = 0\n",
    "        self.num_bid = 0\n",
    "        self.winning_player = None\n",
    "        \n",
    "        # Initialize public signal\n",
    "        self.public_signal = poisson.rvs(self.public_lambda * self.schedule.time)\n",
    "        \n",
    "        #Intialize auction time\n",
    "        self.T = norm.rvs(loc=T_mean, scale=T_sd)\n",
    "        \n",
    "    def step(self):\n",
    "        \n",
    "        #Update public signal\n",
    "        self.public_signal = poisson.rvs(self.public_lambda * self.schedule.time)\n",
    "        \n",
    "        self.schedule.step()\n",
    "        \n",
    "\n",
    "# Setup and run the model\n",
    "model = Auction(100, rate_public=0.8, T_mean=12, T_sd=0.1)\n",
    "\n",
    "for i in range(int(model.T*100)): \n",
    "    model.step()\n",
    "\n",
    "# Print winning bidder and highest bid\n",
    "print(f\"Number of Bids: {model.num_bid}\")\n",
    "print(f\"Winning bidder: {model.winning_player.unique_id}\")\n",
    "print(f\"Highest bid: {model.current_max_bid}\")\n",
    "print(f\"Profit margin of winner: {model.winning_player.pm}\")\n",
    "print(f\"Public signal: {model.public_signal}\")\n",
    "print(f\"Private lambda: {model.winning_player.private_lambda}\")\n",
    "print(f\"Auction time: {model.T}\")"
   ]
  },
  {
   "cell_type": "code",
   "execution_count": null,
   "metadata": {},
   "outputs": [],
   "source": []
  },
  {
   "cell_type": "code",
   "execution_count": null,
   "metadata": {},
   "outputs": [],
   "source": []
  },
  {
   "cell_type": "code",
   "execution_count": null,
   "metadata": {},
   "outputs": [],
   "source": []
  },
  {
   "cell_type": "code",
   "execution_count": null,
   "metadata": {},
   "outputs": [],
   "source": []
  },
  {
   "cell_type": "code",
   "execution_count": null,
   "metadata": {},
   "outputs": [],
   "source": []
  },
  {
   "cell_type": "code",
   "execution_count": null,
   "metadata": {},
   "outputs": [],
   "source": []
  },
  {
   "cell_type": "code",
   "execution_count": null,
   "metadata": {},
   "outputs": [],
   "source": []
  },
  {
   "cell_type": "code",
   "execution_count": null,
   "metadata": {},
   "outputs": [],
   "source": []
  },
  {
   "cell_type": "code",
   "execution_count": null,
   "metadata": {},
   "outputs": [],
   "source": []
  },
  {
   "cell_type": "code",
   "execution_count": null,
   "metadata": {},
   "outputs": [],
   "source": []
  },
  {
   "cell_type": "code",
   "execution_count": null,
   "metadata": {},
   "outputs": [],
   "source": []
  },
  {
   "cell_type": "code",
   "execution_count": null,
   "metadata": {},
   "outputs": [],
   "source": []
  },
  {
   "cell_type": "code",
   "execution_count": null,
   "metadata": {},
   "outputs": [],
   "source": []
  },
  {
   "cell_type": "code",
   "execution_count": null,
   "metadata": {},
   "outputs": [],
   "source": []
  },
  {
   "cell_type": "code",
   "execution_count": null,
   "metadata": {},
   "outputs": [],
   "source": []
  },
  {
   "cell_type": "code",
   "execution_count": null,
   "metadata": {},
   "outputs": [],
   "source": []
  },
  {
   "cell_type": "code",
   "execution_count": null,
   "metadata": {},
   "outputs": [],
   "source": []
  },
  {
   "cell_type": "code",
   "execution_count": null,
   "metadata": {},
   "outputs": [],
   "source": []
  },
  {
   "cell_type": "code",
   "execution_count": null,
   "metadata": {},
   "outputs": [],
   "source": []
  },
  {
   "cell_type": "code",
   "execution_count": null,
   "metadata": {},
   "outputs": [],
   "source": []
  },
  {
   "cell_type": "code",
   "execution_count": null,
   "metadata": {},
   "outputs": [],
   "source": []
  },
  {
   "cell_type": "code",
   "execution_count": null,
   "metadata": {},
   "outputs": [],
   "source": []
  },
  {
   "cell_type": "code",
   "execution_count": null,
   "metadata": {},
   "outputs": [],
   "source": []
  },
  {
   "cell_type": "code",
   "execution_count": null,
   "metadata": {},
   "outputs": [],
   "source": []
  },
  {
   "cell_type": "code",
   "execution_count": null,
   "metadata": {},
   "outputs": [],
   "source": []
  },
  {
   "cell_type": "code",
   "execution_count": null,
   "metadata": {},
   "outputs": [],
   "source": []
  },
  {
   "cell_type": "code",
   "execution_count": null,
   "metadata": {},
   "outputs": [],
   "source": []
  },
  {
   "cell_type": "code",
   "execution_count": null,
   "metadata": {},
   "outputs": [],
   "source": []
  },
  {
   "cell_type": "code",
   "execution_count": null,
   "metadata": {},
   "outputs": [],
   "source": []
  },
  {
   "cell_type": "code",
   "execution_count": null,
   "metadata": {},
   "outputs": [],
   "source": []
  },
  {
   "cell_type": "code",
   "execution_count": null,
   "metadata": {},
   "outputs": [],
   "source": []
  },
  {
   "cell_type": "code",
   "execution_count": null,
   "metadata": {},
   "outputs": [],
   "source": []
  },
  {
   "cell_type": "code",
   "execution_count": null,
   "metadata": {},
   "outputs": [],
   "source": []
  },
  {
   "cell_type": "code",
   "execution_count": null,
   "metadata": {},
   "outputs": [],
   "source": []
  },
  {
   "cell_type": "code",
   "execution_count": null,
   "metadata": {},
   "outputs": [],
   "source": []
  },
  {
   "cell_type": "code",
   "execution_count": null,
   "metadata": {},
   "outputs": [],
   "source": []
  },
  {
   "cell_type": "code",
   "execution_count": null,
   "metadata": {},
   "outputs": [],
   "source": []
  },
  {
   "cell_type": "code",
   "execution_count": null,
   "metadata": {},
   "outputs": [],
   "source": []
  },
  {
   "cell_type": "code",
   "execution_count": null,
   "metadata": {},
   "outputs": [],
   "source": []
  },
  {
   "cell_type": "code",
   "execution_count": null,
   "metadata": {},
   "outputs": [],
   "source": []
  },
  {
   "cell_type": "code",
   "execution_count": null,
   "metadata": {},
   "outputs": [],
   "source": []
  },
  {
   "cell_type": "code",
   "execution_count": null,
   "metadata": {},
   "outputs": [],
   "source": []
  },
  {
   "cell_type": "code",
   "execution_count": null,
   "metadata": {},
   "outputs": [],
   "source": []
  },
  {
   "cell_type": "code",
   "execution_count": null,
   "metadata": {},
   "outputs": [],
   "source": []
  },
  {
   "cell_type": "code",
   "execution_count": null,
   "metadata": {},
   "outputs": [],
   "source": []
  },
  {
   "cell_type": "code",
   "execution_count": null,
   "metadata": {},
   "outputs": [],
   "source": []
  },
  {
   "cell_type": "code",
   "execution_count": null,
   "metadata": {},
   "outputs": [],
   "source": []
  }
 ],
 "metadata": {
  "kernelspec": {
   "display_name": "Python 3",
   "language": "python",
   "name": "python3"
  },
  "language_info": {
   "codemirror_mode": {
    "name": "ipython",
    "version": 3
   },
   "file_extension": ".py",
   "mimetype": "text/x-python",
   "name": "python",
   "nbconvert_exporter": "python",
   "pygments_lexer": "ipython3",
   "version": "3.8.3"
  }
 },
 "nbformat": 4,
 "nbformat_minor": 4
}
